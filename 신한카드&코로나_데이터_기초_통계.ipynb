{
  "nbformat": 4,
  "nbformat_minor": 0,
  "metadata": {
    "colab": {
      "name": "신한카드&코로나 데이터 기초 통계.ipynb",
      "provenance": [],
      "collapsed_sections": [],
      "authorship_tag": "ABX9TyPY6WRqrAqLkM19L6GmKGJS",
      "include_colab_link": true
    },
    "kernelspec": {
      "name": "python3",
      "display_name": "Python 3"
    }
  },
  "cells": [
    {
      "cell_type": "markdown",
      "metadata": {
        "id": "view-in-github",
        "colab_type": "text"
      },
      "source": [
        "<a href=\"https://colab.research.google.com/github/skaurl/tourbigdata/blob/master/%EC%8B%A0%ED%95%9C%EC%B9%B4%EB%93%9C%26%EC%BD%94%EB%A1%9C%EB%82%98_%EB%8D%B0%EC%9D%B4%ED%84%B0_%EA%B8%B0%EC%B4%88_%ED%86%B5%EA%B3%84.ipynb\" target=\"_parent\"><img src=\"https://colab.research.google.com/assets/colab-badge.svg\" alt=\"Open In Colab\"/></a>"
      ]
    },
    {
      "cell_type": "code",
      "metadata": {
        "id": "BLkgw1tzcE_F",
        "colab_type": "code",
        "colab": {
          "base_uri": "https://localhost:8080/",
          "height": 34
        },
        "outputId": "446a10a2-6d36-4ea0-92fd-79c6ffd37b61"
      },
      "source": [
        "from google.colab import drive\n",
        "drive.mount('/gdrive')"
      ],
      "execution_count": 10,
      "outputs": [
        {
          "output_type": "stream",
          "text": [
            "Drive already mounted at /gdrive; to attempt to forcibly remount, call drive.mount(\"/gdrive\", force_remount=True).\n"
          ],
          "name": "stdout"
        }
      ]
    },
    {
      "cell_type": "code",
      "metadata": {
        "id": "NSyVI-ANcVB1",
        "colab_type": "code",
        "colab": {
          "base_uri": "https://localhost:8080/",
          "height": 102
        },
        "outputId": "07bea32b-e6c1-47a0-c066-c6890226ad2e"
      },
      "source": [
        "import matplotlib as mpl\n",
        "import matplotlib.pyplot as plt\n",
        " \n",
        "%config InlineBackend.figure_format = 'retina'\n",
        " \n",
        "!apt -qq -y install fonts-nanum\n",
        " \n",
        "import matplotlib.font_manager as fm\n",
        "fontpath = '/usr/share/fonts/truetype/nanum/NanumBarunGothic.ttf'\n",
        "font = fm.FontProperties(fname=fontpath, size=9)\n",
        "plt.rc('font', family='NanumBarunGothic') \n",
        "mpl.font_manager._rebuild()\n",
        "\n",
        "plt.rcParams[\"figure.figsize\"] = (10,10)"
      ],
      "execution_count": 11,
      "outputs": [
        {
          "output_type": "stream",
          "text": [
            "fonts-nanum is already the newest version (20170925-1).\n",
            "The following package was automatically installed and is no longer required:\n",
            "  libnvidia-common-440\n",
            "Use 'apt autoremove' to remove it.\n",
            "0 upgraded, 0 newly installed, 0 to remove and 35 not upgraded.\n"
          ],
          "name": "stdout"
        }
      ]
    },
    {
      "cell_type": "code",
      "metadata": {
        "id": "akeG3j54cakS",
        "colab_type": "code",
        "colab": {
          "base_uri": "https://localhost:8080/",
          "height": 479
        },
        "outputId": "3c85e555-ec97-48c1-f024-b470342bc42a"
      },
      "source": [
        "import pandas as pd\n",
        "import numpy as np\n",
        "\n",
        "df_all = pd.read_csv(\"/gdrive/My Drive/한양대학교/2020년 문화관광 빅데이터 분석대회/data/신한카드/신한카드 데이터/KCTI_NATIVE_ALL.txt\", sep = \"|\", encoding = 'cp949')\n",
        "df_all = df_all.groupby([df_all['v2'],df_all['gb3'],df_all['sex_ccd'],df_all['cln_age_r'],df_all['ta_ym']]).sum()\n",
        "df_all = df_all.reset_index()\n",
        "\n",
        "df_all = df_all[df_all['cln_age_r']!='기타']\n",
        "\n",
        "df_all = df_all.sort_values(by=['v2','gb3','sex_ccd','cln_age_r','ta_ym'])\n",
        "\n",
        "df_all.to_csv(\"/gdrive/My Drive/한양대학교/2020년 문화관광 빅데이터 분석대회/data/dataset.csv\", encoding='cp949', index=False)\n",
        "\n",
        "df_all = pd.read_csv(\"/gdrive/My Drive/한양대학교/2020년 문화관광 빅데이터 분석대회/data/dataset.csv\", encoding = 'cp949')\n",
        "\n",
        "df_all = df_all.groupby([df_all['v2'],df_all['gb3'],df_all['sex_ccd'],df_all['cln_age_r'],df_all['ta_ym']]).sum()\n",
        "df_all = df_all.reset_index()\n",
        "\n",
        "df_all = df_all[df_all['cln_age_r']!='기타']\n",
        "\n",
        "df_all = df_all.sort_values(by=['v2','gb3','sex_ccd','cln_age_r','ta_ym'])\n",
        "\n",
        "print(df_all)\n",
        "print(df_all.dtypes)\n",
        "\n",
        "df_all.to_csv(\"/gdrive/My Drive/한양대학교/2020년 문화관광 빅데이터 분석대회/data/dataset.csv\", encoding='cp949', index=False)"
      ],
      "execution_count": null,
      "outputs": [
        {
          "output_type": "stream",
          "text": [
            "/usr/local/lib/python3.6/dist-packages/IPython/core/interactiveshell.py:2718: DtypeWarning: Columns (6) have mixed types.Specify dtype option on import or set low_memory=False.\n",
            "  interactivity=interactivity, compiler=compiler, result=result)\n"
          ],
          "name": "stderr"
        },
        {
          "output_type": "stream",
          "text": [
            "       v2     gb3 sex_ccd  cln_age_r   ta_ym           vlm     usec\n",
            "0      강원  문화예술활동       F         20  201701  3.525090e+08    28203\n",
            "1      강원  문화예술활동       F         20  201702  3.084153e+08    24361\n",
            "2      강원  문화예술활동       F         20  201703  3.558027e+08    28811\n",
            "3      강원  문화예술활동       F         20  201704  2.732711e+08    20142\n",
            "4      강원  문화예술활동       F         20  201705  4.023748e+08    32267\n",
            "...    ..     ...     ...        ...     ...           ...      ...\n",
            "28555  충북    취미오락       M         60  202002  2.445020e+10   808798\n",
            "28556  충북    취미오락       M         60  202003  2.638171e+10   904710\n",
            "28557  충북    취미오락       M         60  202004  2.889779e+10   968417\n",
            "28558  충북    취미오락       M         60  202005  3.891491e+10  1233010\n",
            "28559  충북    취미오락       M         60  202006  3.439198e+10  1150324\n",
            "\n",
            "[28560 rows x 7 columns]\n",
            "v2            object\n",
            "gb3           object\n",
            "sex_ccd       object\n",
            "cln_age_r      int64\n",
            "ta_ym          int64\n",
            "vlm          float64\n",
            "usec           int64\n",
            "dtype: object\n"
          ],
          "name": "stdout"
        },
        {
          "output_type": "stream",
          "text": [
            "/usr/local/lib/python3.6/dist-packages/pandas/core/ops/array_ops.py:253: FutureWarning: elementwise comparison failed; returning scalar instead, but in the future will perform elementwise comparison\n",
            "  res_values = method(rvalues)\n"
          ],
          "name": "stderr"
        }
      ]
    },
    {
      "cell_type": "code",
      "metadata": {
        "id": "kmmvAkUOolLc",
        "colab_type": "code",
        "colab": {
          "base_uri": "https://localhost:8080/",
          "height": 306
        },
        "outputId": "88879cf6-9f28-47c1-f629-934f481138da"
      },
      "source": [
        "import pandas as pd\n",
        "import numpy as np\n",
        "\n",
        "df_all = pd.read_csv(\"/gdrive/My Drive/한양대학교/2020년 문화관광 빅데이터 분석대회/data/dataset.csv\", encoding = 'cp949')\n",
        "\n",
        "df = df_all.groupby([df_all['v2'],df_all['gb3'],df_all['sex_ccd'],df_all['cln_age_r']]).count()\n",
        "df = df.reset_index()\n",
        "\n",
        "print(df[df['ta_ym']==42])\n",
        "print(df[df['ta_ym']!=42])"
      ],
      "execution_count": null,
      "outputs": [
        {
          "output_type": "stream",
          "text": [
            "     v2     gb3 sex_ccd  cln_age_r  ta_ym  vlm  usec\n",
            "0    강원  문화예술활동       F         20     42   42    42\n",
            "1    강원  문화예술활동       F         30     42   42    42\n",
            "2    강원  문화예술활동       F         40     42   42    42\n",
            "3    강원  문화예술활동       F         50     42   42    42\n",
            "4    강원  문화예술활동       F         60     42   42    42\n",
            "..   ..     ...     ...        ...    ...  ...   ...\n",
            "675  충북    취미오락       M         20     42   42    42\n",
            "676  충북    취미오락       M         30     42   42    42\n",
            "677  충북    취미오락       M         40     42   42    42\n",
            "678  충북    취미오락       M         50     42   42    42\n",
            "679  충북    취미오락       M         60     42   42    42\n",
            "\n",
            "[680 rows x 7 columns]\n",
            "Empty DataFrame\n",
            "Columns: [v2, gb3, sex_ccd, cln_age_r, ta_ym, vlm, usec]\n",
            "Index: []\n"
          ],
          "name": "stdout"
        }
      ]
    },
    {
      "cell_type": "code",
      "metadata": {
        "id": "KnPizVOq3aUd",
        "colab_type": "code",
        "colab": {
          "base_uri": "https://localhost:8080/",
          "height": 357
        },
        "outputId": "c3bee1a8-7dda-46f2-a7fd-41d337d2d4c4"
      },
      "source": [
        "import pandas as pd\n",
        "import numpy as np\n",
        "\n",
        "df_all = pd.read_csv(\"/gdrive/My Drive/한양대학교/2020년 문화관광 빅데이터 분석대회/data/dataset.csv\", encoding = 'cp949')\n",
        "\n",
        "df = df_all.groupby([df_all['v2'],df_all['gb3'],df_all['sex_ccd'],df_all['cln_age_r']]).count()\n",
        "df = df.reset_index()\n",
        "del df['vlm']\n",
        "del df['usec']\n",
        "del df['ta_ym']\n",
        "\n",
        "vlm = []\n",
        "usec = []\n",
        "\n",
        "for i in range(len(df)):\n",
        "    vlm.append(list(df_all.iloc[42*i:42*i+42,5]))\n",
        "    usec.append(list(df_all.iloc[42*i:42*i+42,6]))\n",
        "\n",
        "vlm = np.array(vlm)\n",
        "usec = np.array(usec)\n",
        "\n",
        "print(vlm)\n",
        "print(usec)"
      ],
      "execution_count": 29,
      "outputs": [
        {
          "output_type": "stream",
          "text": [
            "[[3.52509012e+08 3.08415254e+08 3.55802686e+08 ... 2.32177745e+08\n",
            "  3.44888207e+08 8.91923261e+08]\n",
            " [3.52284417e+08 2.48023915e+08 2.87083464e+08 ... 2.01470629e+08\n",
            "  3.30425005e+08 3.04093031e+08]\n",
            " [3.37082495e+08 2.63219937e+08 3.15389577e+08 ... 1.77884601e+08\n",
            "  2.24794826e+08 2.79881340e+08]\n",
            " ...\n",
            " [8.28076230e+10 7.22903639e+10 8.30354224e+10 ... 8.54834451e+10\n",
            "  1.03337397e+11 8.56067442e+10]\n",
            " [5.05652798e+10 4.22846154e+10 5.16379874e+10 ... 6.14326027e+10\n",
            "  8.26170889e+10 6.92847606e+10]\n",
            " [2.07624502e+10 1.58344576e+10 1.86610513e+10 ... 2.88977871e+10\n",
            "  3.89149071e+10 3.43919775e+10]]\n",
            "[[  28203   24361   28811 ...   12788   17469   23049]\n",
            " [  18402   11846   10498 ...    5044    8763    8668]\n",
            " [  18889   12827   11434 ...    5806    9544   11281]\n",
            " ...\n",
            " [2262617 2003387 2413169 ... 2412699 3135273 2773380]\n",
            " [1391139 1247412 1528076 ... 1981142 2563337 2301538]\n",
            " [ 521416  456104  574875 ...  968417 1233010 1150324]]\n"
          ],
          "name": "stdout"
        }
      ]
    },
    {
      "cell_type": "code",
      "metadata": {
        "id": "g-P2dNmAIfdu",
        "colab_type": "code",
        "colab": {}
      },
      "source": [
        "from sklearn.cluster import KMeans\n",
        "\n",
        "model = KMeans(n_clusters=4)\n",
        "\n",
        "model.fit(vlm)\n",
        "\n",
        "y_predict = model.predict(vlm)\n",
        "\n",
        "df['kmeans'] = y_predict\n",
        "\n",
        "print(df.groupby(df['kmeans']).count())"
      ],
      "execution_count": null,
      "outputs": []
    },
    {
      "cell_type": "code",
      "metadata": {
        "id": "DlEgmYmGNG0V",
        "colab_type": "code",
        "colab": {}
      },
      "source": [
        "from sklearn.linear_model import LinearRegression\n",
        "from sklearn.cluster import KMeans\n",
        "\n",
        "vlm_lr = []\n",
        "\n",
        "for i in range(len(vlm)):\n",
        "    lr = LinearRegression()\n",
        "    lr.fit(np.arange(42).reshape(-1,1), vlm[i])\n",
        "    vlm_lr.append([lr.coef_[0],lr.intercept_])\n",
        "\n",
        "vlm_lr = np.array(vlm_lr)\n",
        "\n",
        "model = KMeans(n_clusters=4)\n",
        "\n",
        "model.fit(vlm_lr)\n",
        "\n",
        "y_predict = model.predict(vlm_lr)\n",
        "\n",
        "df['kmeans_lr'] = y_predict\n",
        "\n",
        "print(df.groupby(df['kmeans_lr']).count())"
      ],
      "execution_count": null,
      "outputs": []
    }
  ]
}