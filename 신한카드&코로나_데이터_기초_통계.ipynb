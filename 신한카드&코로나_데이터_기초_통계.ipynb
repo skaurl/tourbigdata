{
  "nbformat": 4,
  "nbformat_minor": 0,
  "metadata": {
    "colab": {
      "name": "신한카드&코로나 데이터 기초 통계.ipynb",
      "provenance": [],
      "collapsed_sections": [],
      "authorship_tag": "ABX9TyOSGd3Y7cjGBVlN2r+DR+Fe",
      "include_colab_link": true
    },
    "kernelspec": {
      "name": "python3",
      "display_name": "Python 3"
    }
  },
  "cells": [
    {
      "cell_type": "markdown",
      "metadata": {
        "id": "view-in-github",
        "colab_type": "text"
      },
      "source": [
        "<a href=\"https://colab.research.google.com/github/skaurl/tourbigdata/blob/master/%EC%8B%A0%ED%95%9C%EC%B9%B4%EB%93%9C%26%EC%BD%94%EB%A1%9C%EB%82%98_%EB%8D%B0%EC%9D%B4%ED%84%B0_%EA%B8%B0%EC%B4%88_%ED%86%B5%EA%B3%84.ipynb\" target=\"_parent\"><img src=\"https://colab.research.google.com/assets/colab-badge.svg\" alt=\"Open In Colab\"/></a>"
      ]
    },
    {
      "cell_type": "code",
      "metadata": {
        "id": "BLkgw1tzcE_F",
        "colab_type": "code",
        "colab": {
          "base_uri": "https://localhost:8080/",
          "height": 122
        },
        "outputId": "caa268fc-d447-417a-a77d-0134d29a99e8"
      },
      "source": [
        "from google.colab import drive\n",
        "drive.mount('/gdrive')"
      ],
      "execution_count": 1,
      "outputs": [
        {
          "output_type": "stream",
          "text": [
            "Go to this URL in a browser: https://accounts.google.com/o/oauth2/auth?client_id=947318989803-6bn6qk8qdgf4n4g3pfee6491hc0brc4i.apps.googleusercontent.com&redirect_uri=urn%3aietf%3awg%3aoauth%3a2.0%3aoob&response_type=code&scope=email%20https%3a%2f%2fwww.googleapis.com%2fauth%2fdocs.test%20https%3a%2f%2fwww.googleapis.com%2fauth%2fdrive%20https%3a%2f%2fwww.googleapis.com%2fauth%2fdrive.photos.readonly%20https%3a%2f%2fwww.googleapis.com%2fauth%2fpeopleapi.readonly\n",
            "\n",
            "Enter your authorization code:\n",
            "··········\n",
            "Mounted at /gdrive\n"
          ],
          "name": "stdout"
        }
      ]
    },
    {
      "cell_type": "code",
      "metadata": {
        "id": "NSyVI-ANcVB1",
        "colab_type": "code",
        "colab": {
          "base_uri": "https://localhost:8080/",
          "height": 255
        },
        "outputId": "63d2a669-3b67-46f1-abe0-f0756872e974"
      },
      "source": [
        "import matplotlib as mpl\n",
        "import matplotlib.pyplot as plt\n",
        " \n",
        "%config InlineBackend.figure_format = 'retina'\n",
        " \n",
        "!apt -qq -y install fonts-nanum\n",
        " \n",
        "import matplotlib.font_manager as fm\n",
        "fontpath = '/usr/share/fonts/truetype/nanum/NanumBarunGothic.ttf'\n",
        "font = fm.FontProperties(fname=fontpath, size=9)\n",
        "plt.rc('font', family='NanumBarunGothic') \n",
        "mpl.font_manager._rebuild()\n",
        "\n",
        "plt.rcParams[\"figure.figsize\"] = (10,10)"
      ],
      "execution_count": 2,
      "outputs": [
        {
          "output_type": "stream",
          "text": [
            "The following package was automatically installed and is no longer required:\n",
            "  libnvidia-common-440\n",
            "Use 'apt autoremove' to remove it.\n",
            "The following NEW packages will be installed:\n",
            "  fonts-nanum\n",
            "0 upgraded, 1 newly installed, 0 to remove and 35 not upgraded.\n",
            "Need to get 9,604 kB of archives.\n",
            "After this operation, 29.5 MB of additional disk space will be used.\n",
            "Selecting previously unselected package fonts-nanum.\n",
            "(Reading database ... 144465 files and directories currently installed.)\n",
            "Preparing to unpack .../fonts-nanum_20170925-1_all.deb ...\n",
            "Unpacking fonts-nanum (20170925-1) ...\n",
            "Setting up fonts-nanum (20170925-1) ...\n",
            "Processing triggers for fontconfig (2.12.6-0ubuntu2) ...\n"
          ],
          "name": "stdout"
        }
      ]
    },
    {
      "cell_type": "code",
      "metadata": {
        "id": "akeG3j54cakS",
        "colab_type": "code",
        "colab": {
          "base_uri": "https://localhost:8080/",
          "height": 479
        },
        "outputId": "3c85e555-ec97-48c1-f024-b470342bc42a"
      },
      "source": [
        "import pandas as pd\n",
        "import numpy as np\n",
        "\n",
        "df_all = pd.read_csv(\"/gdrive/My Drive/한양대학교/2020년 문화관광 빅데이터 분석대회/data/신한카드/신한카드 데이터/KCTI_NATIVE_ALL.txt\", sep = \"|\", encoding = 'cp949')\n",
        "df_all = df_all.groupby([df_all['v2'],df_all['gb3'],df_all['sex_ccd'],df_all['cln_age_r'],df_all['ta_ym']]).sum()\n",
        "df_all = df_all.reset_index()\n",
        "\n",
        "df_all = df_all[df_all['cln_age_r']!='기타']\n",
        "\n",
        "df_all = df_all.sort_values(by=['v2','gb3','sex_ccd','cln_age_r','ta_ym'])\n",
        "\n",
        "df_all.to_csv(\"/gdrive/My Drive/한양대학교/2020년 문화관광 빅데이터 분석대회/data/dataset.csv\", encoding='cp949', index=False)\n",
        "\n",
        "df_all = pd.read_csv(\"/gdrive/My Drive/한양대학교/2020년 문화관광 빅데이터 분석대회/data/dataset.csv\", encoding = 'cp949')\n",
        "\n",
        "df_all = df_all.groupby([df_all['v2'],df_all['gb3'],df_all['sex_ccd'],df_all['cln_age_r'],df_all['ta_ym']]).sum()\n",
        "df_all = df_all.reset_index()\n",
        "\n",
        "df_all = df_all[df_all['cln_age_r']!='기타']\n",
        "\n",
        "df_all = df_all.sort_values(by=['v2','gb3','sex_ccd','cln_age_r','ta_ym'])\n",
        "\n",
        "print(df_all)\n",
        "print(df_all.dtypes)\n",
        "\n",
        "df_all.to_csv(\"/gdrive/My Drive/한양대학교/2020년 문화관광 빅데이터 분석대회/data/dataset.csv\", encoding='cp949', index=False)"
      ],
      "execution_count": 3,
      "outputs": [
        {
          "output_type": "stream",
          "text": [
            "/usr/local/lib/python3.6/dist-packages/IPython/core/interactiveshell.py:2718: DtypeWarning: Columns (6) have mixed types.Specify dtype option on import or set low_memory=False.\n",
            "  interactivity=interactivity, compiler=compiler, result=result)\n"
          ],
          "name": "stderr"
        },
        {
          "output_type": "stream",
          "text": [
            "       v2     gb3 sex_ccd  cln_age_r   ta_ym           vlm     usec\n",
            "0      강원  문화예술활동       F         20  201701  3.525090e+08    28203\n",
            "1      강원  문화예술활동       F         20  201702  3.084153e+08    24361\n",
            "2      강원  문화예술활동       F         20  201703  3.558027e+08    28811\n",
            "3      강원  문화예술활동       F         20  201704  2.732711e+08    20142\n",
            "4      강원  문화예술활동       F         20  201705  4.023748e+08    32267\n",
            "...    ..     ...     ...        ...     ...           ...      ...\n",
            "28555  충북    취미오락       M         60  202002  2.445020e+10   808798\n",
            "28556  충북    취미오락       M         60  202003  2.638171e+10   904710\n",
            "28557  충북    취미오락       M         60  202004  2.889779e+10   968417\n",
            "28558  충북    취미오락       M         60  202005  3.891491e+10  1233010\n",
            "28559  충북    취미오락       M         60  202006  3.439198e+10  1150324\n",
            "\n",
            "[28560 rows x 7 columns]\n",
            "v2            object\n",
            "gb3           object\n",
            "sex_ccd       object\n",
            "cln_age_r      int64\n",
            "ta_ym          int64\n",
            "vlm          float64\n",
            "usec           int64\n",
            "dtype: object\n"
          ],
          "name": "stdout"
        },
        {
          "output_type": "stream",
          "text": [
            "/usr/local/lib/python3.6/dist-packages/pandas/core/ops/array_ops.py:253: FutureWarning: elementwise comparison failed; returning scalar instead, but in the future will perform elementwise comparison\n",
            "  res_values = method(rvalues)\n"
          ],
          "name": "stderr"
        }
      ]
    },
    {
      "cell_type": "code",
      "metadata": {
        "id": "kmmvAkUOolLc",
        "colab_type": "code",
        "colab": {
          "base_uri": "https://localhost:8080/",
          "height": 306
        },
        "outputId": "88879cf6-9f28-47c1-f629-934f481138da"
      },
      "source": [
        "import pandas as pd\n",
        "import numpy as np\n",
        "\n",
        "df_all = pd.read_csv(\"/gdrive/My Drive/한양대학교/2020년 문화관광 빅데이터 분석대회/data/dataset.csv\", encoding = 'cp949')\n",
        "\n",
        "A = df_all.groupby([df_all['v2'],df_all['gb3'],df_all['sex_ccd'],df_all['cln_age_r']]).count()\n",
        "A = A.reset_index()\n",
        "\n",
        "print(A[A['ta_ym']==42])\n",
        "print(A[A['ta_ym']!=42])"
      ],
      "execution_count": 4,
      "outputs": [
        {
          "output_type": "stream",
          "text": [
            "     v2     gb3 sex_ccd  cln_age_r  ta_ym  vlm  usec\n",
            "0    강원  문화예술활동       F         20     42   42    42\n",
            "1    강원  문화예술활동       F         30     42   42    42\n",
            "2    강원  문화예술활동       F         40     42   42    42\n",
            "3    강원  문화예술활동       F         50     42   42    42\n",
            "4    강원  문화예술활동       F         60     42   42    42\n",
            "..   ..     ...     ...        ...    ...  ...   ...\n",
            "675  충북    취미오락       M         20     42   42    42\n",
            "676  충북    취미오락       M         30     42   42    42\n",
            "677  충북    취미오락       M         40     42   42    42\n",
            "678  충북    취미오락       M         50     42   42    42\n",
            "679  충북    취미오락       M         60     42   42    42\n",
            "\n",
            "[680 rows x 7 columns]\n",
            "Empty DataFrame\n",
            "Columns: [v2, gb3, sex_ccd, cln_age_r, ta_ym, vlm, usec]\n",
            "Index: []\n"
          ],
          "name": "stdout"
        }
      ]
    },
    {
      "cell_type": "code",
      "metadata": {
        "id": "KnPizVOq3aUd",
        "colab_type": "code",
        "colab": {}
      },
      "source": [
        "import pandas as pd\n",
        "import numpy as np\n",
        "\n",
        "df_all = pd.read_csv(\"/gdrive/My Drive/한양대학교/2020년 문화관광 빅데이터 분석대회/data/dataset.csv\", encoding = 'cp949')\n",
        "\n",
        "for i in range(680):\n",
        "    plt.plot(range(42), df_all.iloc[42*i:42*i+42,5])\n",
        "    plt.show()"
      ],
      "execution_count": null,
      "outputs": []
    }
  ]
}